{
 "cells": [
  {
   "cell_type": "code",
   "execution_count": 1,
   "id": "initial_id",
   "metadata": {
    "collapsed": true,
    "ExecuteTime": {
     "end_time": "2023-12-17T20:48:01.540166Z",
     "start_time": "2023-12-17T20:47:59.419097Z"
    }
   },
   "outputs": [
    {
     "name": "stdout",
     "output_type": "stream",
     "text": [
      "Requirement already satisfied: packaging in /Users/yen-yuyang/anaconda3/lib/python3.11/site-packages (23.1)\r\n"
     ]
    }
   ],
   "source": [
    "! pip install packaging"
   ]
  },
  {
   "cell_type": "code",
   "execution_count": 2,
   "outputs": [
    {
     "name": "stdout",
     "output_type": "stream",
     "text": [
      "Requirement already satisfied: pandas in /Users/yen-yuyang/anaconda3/lib/python3.11/site-packages (2.0.3)\r\n",
      "Collecting dash\r\n",
      "  Obtaining dependency information for dash from https://files.pythonhosted.org/packages/7b/62/438626ab498869249e99376684ba6d88931e7c2dd86d03a92d9d7a9b4c54/dash-2.14.2-py3-none-any.whl.metadata\r\n",
      "  Downloading dash-2.14.2-py3-none-any.whl.metadata (11 kB)\r\n",
      "Requirement already satisfied: python-dateutil>=2.8.2 in /Users/yen-yuyang/anaconda3/lib/python3.11/site-packages (from pandas) (2.8.2)\r\n",
      "Requirement already satisfied: pytz>=2020.1 in /Users/yen-yuyang/anaconda3/lib/python3.11/site-packages (from pandas) (2023.3.post1)\r\n",
      "Requirement already satisfied: tzdata>=2022.1 in /Users/yen-yuyang/anaconda3/lib/python3.11/site-packages (from pandas) (2023.3)\r\n",
      "Requirement already satisfied: numpy>=1.21.0 in /Users/yen-yuyang/anaconda3/lib/python3.11/site-packages (from pandas) (1.24.3)\r\n",
      "Requirement already satisfied: Flask<3.1,>=1.0.4 in /Users/yen-yuyang/anaconda3/lib/python3.11/site-packages (from dash) (2.2.2)\r\n",
      "Requirement already satisfied: Werkzeug<3.1 in /Users/yen-yuyang/anaconda3/lib/python3.11/site-packages (from dash) (2.2.3)\r\n",
      "Requirement already satisfied: plotly>=5.0.0 in /Users/yen-yuyang/anaconda3/lib/python3.11/site-packages (from dash) (5.9.0)\r\n",
      "Collecting dash-html-components==2.0.0 (from dash)\r\n",
      "  Downloading dash_html_components-2.0.0-py3-none-any.whl (4.1 kB)\r\n",
      "Collecting dash-core-components==2.0.0 (from dash)\r\n",
      "  Downloading dash_core_components-2.0.0-py3-none-any.whl (3.8 kB)\r\n",
      "Collecting dash-table==5.0.0 (from dash)\r\n",
      "  Downloading dash_table-5.0.0-py3-none-any.whl (3.9 kB)\r\n",
      "Requirement already satisfied: typing-extensions>=4.1.1 in /Users/yen-yuyang/anaconda3/lib/python3.11/site-packages (from dash) (4.7.1)\r\n",
      "Requirement already satisfied: requests in /Users/yen-yuyang/anaconda3/lib/python3.11/site-packages (from dash) (2.31.0)\r\n",
      "Collecting retrying (from dash)\r\n",
      "  Downloading retrying-1.3.4-py3-none-any.whl (11 kB)\r\n",
      "Collecting ansi2html (from dash)\r\n",
      "  Obtaining dependency information for ansi2html from https://files.pythonhosted.org/packages/42/d7/1bc3433a2406b891182c25a7926abe3eb19af5870d540375ebf7795885b3/ansi2html-1.9.1-py3-none-any.whl.metadata\r\n",
      "  Downloading ansi2html-1.9.1-py3-none-any.whl.metadata (3.7 kB)\r\n",
      "Requirement already satisfied: nest-asyncio in /Users/yen-yuyang/anaconda3/lib/python3.11/site-packages (from dash) (1.5.6)\r\n",
      "Requirement already satisfied: setuptools in /Users/yen-yuyang/anaconda3/lib/python3.11/site-packages (from dash) (68.0.0)\r\n",
      "Requirement already satisfied: importlib-metadata in /Users/yen-yuyang/anaconda3/lib/python3.11/site-packages (from dash) (6.0.0)\r\n",
      "Requirement already satisfied: Jinja2>=3.0 in /Users/yen-yuyang/anaconda3/lib/python3.11/site-packages (from Flask<3.1,>=1.0.4->dash) (3.1.2)\r\n",
      "Requirement already satisfied: itsdangerous>=2.0 in /Users/yen-yuyang/anaconda3/lib/python3.11/site-packages (from Flask<3.1,>=1.0.4->dash) (2.0.1)\r\n",
      "Requirement already satisfied: click>=8.0 in /Users/yen-yuyang/anaconda3/lib/python3.11/site-packages (from Flask<3.1,>=1.0.4->dash) (8.0.4)\r\n",
      "Requirement already satisfied: tenacity>=6.2.0 in /Users/yen-yuyang/anaconda3/lib/python3.11/site-packages (from plotly>=5.0.0->dash) (8.2.2)\r\n",
      "Requirement already satisfied: six>=1.5 in /Users/yen-yuyang/anaconda3/lib/python3.11/site-packages (from python-dateutil>=2.8.2->pandas) (1.16.0)\r\n",
      "Requirement already satisfied: MarkupSafe>=2.1.1 in /Users/yen-yuyang/anaconda3/lib/python3.11/site-packages (from Werkzeug<3.1->dash) (2.1.1)\r\n",
      "Requirement already satisfied: zipp>=0.5 in /Users/yen-yuyang/anaconda3/lib/python3.11/site-packages (from importlib-metadata->dash) (3.11.0)\r\n",
      "Requirement already satisfied: charset-normalizer<4,>=2 in /Users/yen-yuyang/anaconda3/lib/python3.11/site-packages (from requests->dash) (2.0.4)\r\n",
      "Requirement already satisfied: idna<4,>=2.5 in /Users/yen-yuyang/anaconda3/lib/python3.11/site-packages (from requests->dash) (3.4)\r\n",
      "Requirement already satisfied: urllib3<3,>=1.21.1 in /Users/yen-yuyang/anaconda3/lib/python3.11/site-packages (from requests->dash) (1.26.16)\r\n",
      "Requirement already satisfied: certifi>=2017.4.17 in /Users/yen-yuyang/anaconda3/lib/python3.11/site-packages (from requests->dash) (2023.7.22)\r\n",
      "Downloading dash-2.14.2-py3-none-any.whl (10.2 MB)\r\n",
      "\u001B[2K   \u001B[90m━━━━━━━━━━━━━━━━━━━━━━━━━━━━━━━━━━━━━━━━\u001B[0m \u001B[32m10.2/10.2 MB\u001B[0m \u001B[31m29.9 MB/s\u001B[0m eta \u001B[36m0:00:00\u001B[0m00:01\u001B[0m0:01\u001B[0m\r\n",
      "\u001B[?25hDownloading ansi2html-1.9.1-py3-none-any.whl (17 kB)\r\n",
      "Installing collected packages: dash-table, dash-html-components, dash-core-components, retrying, ansi2html, dash\r\n",
      "Successfully installed ansi2html-1.9.1 dash-2.14.2 dash-core-components-2.0.0 dash-html-components-2.0.0 dash-table-5.0.0 retrying-1.3.4\r\n"
     ]
    }
   ],
   "source": [
    "!pip install pandas dash"
   ],
   "metadata": {
    "collapsed": false,
    "ExecuteTime": {
     "end_time": "2023-12-17T20:48:14.390093Z",
     "start_time": "2023-12-17T20:48:10.829696Z"
    }
   },
   "id": "5674a4da83846c0a"
  },
  {
   "cell_type": "code",
   "execution_count": 3,
   "outputs": [
    {
     "name": "stdout",
     "output_type": "stream",
     "text": [
      "Collecting httpx==0.20\r\n",
      "  Downloading httpx-0.20.0-py3-none-any.whl (82 kB)\r\n",
      "\u001B[2K     \u001B[90m━━━━━━━━━━━━━━━━━━━━━━━━━━━━━━━━━━━━━━━━\u001B[0m \u001B[32m82.5/82.5 kB\u001B[0m \u001B[31m4.5 MB/s\u001B[0m eta \u001B[36m0:00:00\u001B[0m\r\n",
      "\u001B[?25hRequirement already satisfied: dash in /Users/yen-yuyang/anaconda3/lib/python3.11/site-packages (2.14.2)\r\n",
      "Requirement already satisfied: plotly in /Users/yen-yuyang/anaconda3/lib/python3.11/site-packages (5.9.0)\r\n",
      "Requirement already satisfied: certifi in /Users/yen-yuyang/anaconda3/lib/python3.11/site-packages (from httpx==0.20) (2023.7.22)\r\n",
      "Requirement already satisfied: charset-normalizer in /Users/yen-yuyang/anaconda3/lib/python3.11/site-packages (from httpx==0.20) (2.0.4)\r\n",
      "Requirement already satisfied: sniffio in /Users/yen-yuyang/anaconda3/lib/python3.11/site-packages (from httpx==0.20) (1.2.0)\r\n",
      "Collecting rfc3986[idna2008]<2,>=1.3 (from httpx==0.20)\r\n",
      "  Downloading rfc3986-1.5.0-py2.py3-none-any.whl (31 kB)\r\n",
      "Collecting httpcore<0.14.0,>=0.13.3 (from httpx==0.20)\r\n",
      "  Downloading httpcore-0.13.7-py3-none-any.whl (58 kB)\r\n",
      "\u001B[2K     \u001B[90m━━━━━━━━━━━━━━━━━━━━━━━━━━━━━━━━━━━━━━━━\u001B[0m \u001B[32m58.8/58.8 kB\u001B[0m \u001B[31m7.7 MB/s\u001B[0m eta \u001B[36m0:00:00\u001B[0m\r\n",
      "\u001B[?25hRequirement already satisfied: Flask<3.1,>=1.0.4 in /Users/yen-yuyang/anaconda3/lib/python3.11/site-packages (from dash) (2.2.2)\r\n",
      "Requirement already satisfied: Werkzeug<3.1 in /Users/yen-yuyang/anaconda3/lib/python3.11/site-packages (from dash) (2.2.3)\r\n",
      "Requirement already satisfied: dash-html-components==2.0.0 in /Users/yen-yuyang/anaconda3/lib/python3.11/site-packages (from dash) (2.0.0)\r\n",
      "Requirement already satisfied: dash-core-components==2.0.0 in /Users/yen-yuyang/anaconda3/lib/python3.11/site-packages (from dash) (2.0.0)\r\n",
      "Requirement already satisfied: dash-table==5.0.0 in /Users/yen-yuyang/anaconda3/lib/python3.11/site-packages (from dash) (5.0.0)\r\n",
      "Requirement already satisfied: typing-extensions>=4.1.1 in /Users/yen-yuyang/anaconda3/lib/python3.11/site-packages (from dash) (4.7.1)\r\n",
      "Requirement already satisfied: requests in /Users/yen-yuyang/anaconda3/lib/python3.11/site-packages (from dash) (2.31.0)\r\n",
      "Requirement already satisfied: retrying in /Users/yen-yuyang/anaconda3/lib/python3.11/site-packages (from dash) (1.3.4)\r\n",
      "Requirement already satisfied: ansi2html in /Users/yen-yuyang/anaconda3/lib/python3.11/site-packages (from dash) (1.9.1)\r\n",
      "Requirement already satisfied: nest-asyncio in /Users/yen-yuyang/anaconda3/lib/python3.11/site-packages (from dash) (1.5.6)\r\n",
      "Requirement already satisfied: setuptools in /Users/yen-yuyang/anaconda3/lib/python3.11/site-packages (from dash) (68.0.0)\r\n",
      "Requirement already satisfied: importlib-metadata in /Users/yen-yuyang/anaconda3/lib/python3.11/site-packages (from dash) (6.0.0)\r\n",
      "Requirement already satisfied: tenacity>=6.2.0 in /Users/yen-yuyang/anaconda3/lib/python3.11/site-packages (from plotly) (8.2.2)\r\n",
      "Requirement already satisfied: Jinja2>=3.0 in /Users/yen-yuyang/anaconda3/lib/python3.11/site-packages (from Flask<3.1,>=1.0.4->dash) (3.1.2)\r\n",
      "Requirement already satisfied: itsdangerous>=2.0 in /Users/yen-yuyang/anaconda3/lib/python3.11/site-packages (from Flask<3.1,>=1.0.4->dash) (2.0.1)\r\n",
      "Requirement already satisfied: click>=8.0 in /Users/yen-yuyang/anaconda3/lib/python3.11/site-packages (from Flask<3.1,>=1.0.4->dash) (8.0.4)\r\n",
      "Collecting h11<0.13,>=0.11 (from httpcore<0.14.0,>=0.13.3->httpx==0.20)\r\n",
      "  Downloading h11-0.12.0-py3-none-any.whl (54 kB)\r\n",
      "\u001B[2K     \u001B[90m━━━━━━━━━━━━━━━━━━━━━━━━━━━━━━━━━━━━━━━━\u001B[0m \u001B[32m54.9/54.9 kB\u001B[0m \u001B[31m7.1 MB/s\u001B[0m eta \u001B[36m0:00:00\u001B[0m\r\n",
      "\u001B[?25hRequirement already satisfied: anyio==3.* in /Users/yen-yuyang/anaconda3/lib/python3.11/site-packages (from httpcore<0.14.0,>=0.13.3->httpx==0.20) (3.5.0)\r\n",
      "Requirement already satisfied: idna>=2.8 in /Users/yen-yuyang/anaconda3/lib/python3.11/site-packages (from anyio==3.*->httpcore<0.14.0,>=0.13.3->httpx==0.20) (3.4)\r\n",
      "Requirement already satisfied: MarkupSafe>=2.1.1 in /Users/yen-yuyang/anaconda3/lib/python3.11/site-packages (from Werkzeug<3.1->dash) (2.1.1)\r\n",
      "Requirement already satisfied: zipp>=0.5 in /Users/yen-yuyang/anaconda3/lib/python3.11/site-packages (from importlib-metadata->dash) (3.11.0)\r\n",
      "Requirement already satisfied: urllib3<3,>=1.21.1 in /Users/yen-yuyang/anaconda3/lib/python3.11/site-packages (from requests->dash) (1.26.16)\r\n",
      "Requirement already satisfied: six>=1.7.0 in /Users/yen-yuyang/anaconda3/lib/python3.11/site-packages (from retrying->dash) (1.16.0)\r\n",
      "Installing collected packages: rfc3986, h11, httpcore, httpx\r\n",
      "Successfully installed h11-0.12.0 httpcore-0.13.7 httpx-0.20.0 rfc3986-1.5.0\r\n"
     ]
    }
   ],
   "source": [
    "!pip install httpx==0.20 dash plotly"
   ],
   "metadata": {
    "collapsed": false,
    "ExecuteTime": {
     "end_time": "2023-12-17T20:48:35.208575Z",
     "start_time": "2023-12-17T20:48:32.599273Z"
    }
   },
   "id": "2eec4f1f3ebe355c"
  },
  {
   "cell_type": "code",
   "execution_count": 18,
   "outputs": [
    {
     "name": "stdout",
     "output_type": "stream",
     "text": [
      "Requirement already satisfied: dash in /Users/yen-yuyang/anaconda3/lib/python3.11/site-packages (2.14.2)\r\n",
      "Requirement already satisfied: Flask<3.1,>=1.0.4 in /Users/yen-yuyang/anaconda3/lib/python3.11/site-packages (from dash) (2.2.2)\r\n",
      "Requirement already satisfied: Werkzeug<3.1 in /Users/yen-yuyang/anaconda3/lib/python3.11/site-packages (from dash) (2.2.3)\r\n",
      "Requirement already satisfied: plotly>=5.0.0 in /Users/yen-yuyang/anaconda3/lib/python3.11/site-packages (from dash) (5.9.0)\r\n",
      "Requirement already satisfied: dash-html-components==2.0.0 in /Users/yen-yuyang/anaconda3/lib/python3.11/site-packages (from dash) (2.0.0)\r\n",
      "Requirement already satisfied: dash-core-components==2.0.0 in /Users/yen-yuyang/anaconda3/lib/python3.11/site-packages (from dash) (2.0.0)\r\n",
      "Requirement already satisfied: dash-table==5.0.0 in /Users/yen-yuyang/anaconda3/lib/python3.11/site-packages (from dash) (5.0.0)\r\n",
      "Requirement already satisfied: typing-extensions>=4.1.1 in /Users/yen-yuyang/anaconda3/lib/python3.11/site-packages (from dash) (4.7.1)\r\n",
      "Requirement already satisfied: requests in /Users/yen-yuyang/anaconda3/lib/python3.11/site-packages (from dash) (2.31.0)\r\n",
      "Requirement already satisfied: retrying in /Users/yen-yuyang/anaconda3/lib/python3.11/site-packages (from dash) (1.3.4)\r\n",
      "Requirement already satisfied: ansi2html in /Users/yen-yuyang/anaconda3/lib/python3.11/site-packages (from dash) (1.9.1)\r\n",
      "Requirement already satisfied: nest-asyncio in /Users/yen-yuyang/anaconda3/lib/python3.11/site-packages (from dash) (1.5.6)\r\n",
      "Requirement already satisfied: setuptools in /Users/yen-yuyang/anaconda3/lib/python3.11/site-packages (from dash) (68.0.0)\r\n",
      "Requirement already satisfied: importlib-metadata in /Users/yen-yuyang/anaconda3/lib/python3.11/site-packages (from dash) (6.0.0)\r\n",
      "Requirement already satisfied: Jinja2>=3.0 in /Users/yen-yuyang/anaconda3/lib/python3.11/site-packages (from Flask<3.1,>=1.0.4->dash) (3.1.2)\r\n",
      "Requirement already satisfied: itsdangerous>=2.0 in /Users/yen-yuyang/anaconda3/lib/python3.11/site-packages (from Flask<3.1,>=1.0.4->dash) (2.0.1)\r\n",
      "Requirement already satisfied: click>=8.0 in /Users/yen-yuyang/anaconda3/lib/python3.11/site-packages (from Flask<3.1,>=1.0.4->dash) (8.0.4)\r\n",
      "Requirement already satisfied: tenacity>=6.2.0 in /Users/yen-yuyang/anaconda3/lib/python3.11/site-packages (from plotly>=5.0.0->dash) (8.2.2)\r\n",
      "Requirement already satisfied: MarkupSafe>=2.1.1 in /Users/yen-yuyang/anaconda3/lib/python3.11/site-packages (from Werkzeug<3.1->dash) (2.1.1)\r\n",
      "Requirement already satisfied: zipp>=0.5 in /Users/yen-yuyang/anaconda3/lib/python3.11/site-packages (from importlib-metadata->dash) (3.11.0)\r\n",
      "Requirement already satisfied: charset-normalizer<4,>=2 in /Users/yen-yuyang/anaconda3/lib/python3.11/site-packages (from requests->dash) (2.0.4)\r\n",
      "Requirement already satisfied: idna<4,>=2.5 in /Users/yen-yuyang/anaconda3/lib/python3.11/site-packages (from requests->dash) (3.4)\r\n",
      "Requirement already satisfied: urllib3<3,>=1.21.1 in /Users/yen-yuyang/anaconda3/lib/python3.11/site-packages (from requests->dash) (1.26.16)\r\n",
      "Requirement already satisfied: certifi>=2017.4.17 in /Users/yen-yuyang/anaconda3/lib/python3.11/site-packages (from requests->dash) (2023.7.22)\r\n",
      "Requirement already satisfied: six>=1.7.0 in /Users/yen-yuyang/anaconda3/lib/python3.11/site-packages (from retrying->dash) (1.16.0)\r\n"
     ]
    }
   ],
   "source": [
    "!pip install dash"
   ],
   "metadata": {
    "collapsed": false,
    "ExecuteTime": {
     "end_time": "2023-12-17T21:56:31.399718Z",
     "start_time": "2023-12-17T21:56:28.960812Z"
    }
   },
   "id": "9363775e61b94c32"
  },
  {
   "cell_type": "code",
   "execution_count": 32,
   "outputs": [],
   "source": [
    "# Import required packages\n",
    "import pandas as pd\n",
    "import plotly.express as px\n",
    "import dash\n",
    "from dash import dcc\n",
    "from dash import html\n",
    "from dash import Output\n",
    "from dash import Input\n",
    "\n",
    "# Read the airline data into pandas dataframe\n",
    "airline_data =  pd.read_csv('https://cf-courses-data.s3.us.cloud-object-storage.appdomain.cloud/IBMDeveloperSkillsNetwork-DV0101EN-SkillsNetwork/Data%20Files/airline_data.csv', \n",
    "                            encoding = \"ISO-8859-1\",\n",
    "                            dtype={'Div1Airport': str, 'Div1TailNum': str, \n",
    "                                   'Div2Airport': str, 'Div2TailNum': str})\n",
    "\n",
    "# Randomly sample 500 data points. Setting the random state to be 42 so that we get same result.\n",
    "data = airline_data.sample(n=500, random_state=42)\n",
    "\n",
    "# Pie Chart Creation\n",
    "fig = px.pie(data, values='Flights', names='DistanceGroup', title='Distance group proportion by flights')"
   ],
   "metadata": {
    "collapsed": false,
    "ExecuteTime": {
     "end_time": "2023-12-17T22:02:47.606800Z",
     "start_time": "2023-12-17T22:02:41.581542Z"
    }
   },
   "id": "d4376e20b2218af"
  },
  {
   "cell_type": "code",
   "execution_count": 39,
   "outputs": [
    {
     "name": "stdout",
     "output_type": "stream",
     "text": [
      "38        NaN\n",
      "52      -18.0\n",
      "66       48.0\n",
      "70      -15.0\n",
      "76       -7.0\n",
      "         ... \n",
      "26864     1.0\n",
      "26887    16.0\n",
      "26894    -4.0\n",
      "26981    12.0\n",
      "26993    -4.0\n",
      "Name: ArrDelay, Length: 950, dtype: float64\n"
     ]
    }
   ],
   "source": [
    "df = airline_data['ArrDelay'][airline_data['Year'] ==  2010]\n",
    "print(df)"
   ],
   "metadata": {
    "collapsed": false,
    "ExecuteTime": {
     "end_time": "2023-12-17T22:26:41.429333Z",
     "start_time": "2023-12-17T22:26:41.413236Z"
    }
   },
   "id": "1b71b2c4254b8220"
  },
  {
   "cell_type": "code",
   "execution_count": 46,
   "outputs": [
    {
     "data": {
      "text/plain": "<IPython.lib.display.IFrame at 0x16b605690>",
      "text/html": "\n        <iframe\n            width=\"100%\"\n            height=\"650\"\n            src=\"http://127.0.0.1:8050/\"\n            frameborder=\"0\"\n            allowfullscreen\n            \n        ></iframe>\n        "
     },
     "metadata": {},
     "output_type": "display_data"
    }
   ],
   "source": [
    "app = dash.Dash(__name__)\n",
    "                               \n",
    "app.layout = html.Div(children=[ html.H1('Airline Performance Dashboard',style={'textAlign': 'center', 'color': '#503D36', 'font-size': 40}),\n",
    "                                html.Div([\"Input Year: \", dcc.Input(id='input-year', value='2010', \n",
    "                                type='number', style={'height':'50px', 'font-size': 35}),], \n",
    "                                style={'font-size': 40}),\n",
    "                                html.Br(),\n",
    "                                html.Br(),\n",
    "                                html.Div(dcc.Graph(id='line-plot')),\n",
    "                                ])\n",
    "# add callback decorator\n",
    "@app.callback( Output(component_id='line-plot', component_property='figure'),\n",
    "               Input(component_id='input-year', component_property='value'))\n",
    "# Add computation to callback function and return graph\n",
    "def get_graph(entered_year):\n",
    "    # Select 2019 data\n",
    "    df =  airline_data[airline_data['Year']==int(entered_year)]\n",
    "    \n",
    "    # Group the data by Month and compute average over arrival delay time.\n",
    "    line_data = df.groupby('Month')['ArrDelay'].mean().reset_index()\n",
    "    fig = go.Figure(data=go.Scatter(x=line_data['Month'], y=line_data['ArrDelay'], mode='lines', marker=dict(color='green')))\n",
    "    fig.update_layout(title='Month vs Average Flight Delay Time', xaxis_title='Month', yaxis_title='ArrDelay')\n",
    "    return fig\n",
    "# Run the app\n",
    "if __name__ == '__main__':\n",
    "    app.run_server()\n"
   ],
   "metadata": {
    "collapsed": false,
    "ExecuteTime": {
     "end_time": "2023-12-17T22:37:47.343316Z",
     "start_time": "2023-12-17T22:37:47.301949Z"
    }
   },
   "id": "9717f00b2637bc51"
  },
  {
   "cell_type": "code",
   "execution_count": null,
   "outputs": [],
   "source": [],
   "metadata": {
    "collapsed": false
   },
   "id": "20863de249ca38c1"
  }
 ],
 "metadata": {
  "kernelspec": {
   "display_name": "Python 3",
   "language": "python",
   "name": "python3"
  },
  "language_info": {
   "codemirror_mode": {
    "name": "ipython",
    "version": 2
   },
   "file_extension": ".py",
   "mimetype": "text/x-python",
   "name": "python",
   "nbconvert_exporter": "python",
   "pygments_lexer": "ipython2",
   "version": "2.7.6"
  }
 },
 "nbformat": 4,
 "nbformat_minor": 5
}
