{
 "cells": [
  {
   "cell_type": "markdown",
   "source": [
    "# Data Science Tools and Ecosystem"
   ],
   "metadata": {
    "collapsed": false
   },
   "id": "b0e7f4e4e1710de1"
  },
  {
   "cell_type": "markdown",
   "source": [
    "In this notebook, Data Science Tools and Ecosystem are summarized."
   ],
   "metadata": {
    "collapsed": false
   },
   "id": "c0549fe89814c273"
  },
  {
   "cell_type": "markdown",
   "source": [
    "Some of the popular languages that Data Scientists use are:\n",
    "1. Python\n",
    "2. R\n",
    "3. Scala"
   ],
   "metadata": {
    "collapsed": false
   },
   "id": "3f0b930117ac45a0"
  },
  {
   "cell_type": "markdown",
   "source": [
    "# **Objectives:**\n",
    "-List popular languages for Data Science\n",
    "-List popular libraries for Data Science\n",
    "-List popular tools for Data Science"
   ],
   "metadata": {
    "collapsed": false
   },
   "id": "3a3df4363339cbb9"
  },
  {
   "cell_type": "markdown",
   "source": [
    "Some of the commonly used libraries used by Data Scientists include:\n",
    "1. Numpy\n",
    "2. Pandas\n",
    "3. Matplotlib"
   ],
   "metadata": {
    "collapsed": false
   },
   "id": "7bd3351138e8d74c"
  },
  {
   "cell_type": "markdown",
   "source": [
    "| Data Science Tools in Jupyter Notebook |\n",
    "|----------------------------------------|\n",
    "| Pandas                                 |\n",
    "| Matplotlib                             |\n",
    "| Scikit-learn                           |\n",
    "\n"
   ],
   "metadata": {
    "collapsed": false
   },
   "id": "10f52c124ec99976"
  },
  {
   "cell_type": "markdown",
   "source": [
    "### Below are a few examples of evaluating arithmetic expressions in Python"
   ],
   "metadata": {
    "collapsed": false
   },
   "id": "f0a55d45291de99f"
  },
  {
   "cell_type": "code",
   "execution_count": 1,
   "outputs": [
    {
     "data": {
      "text/plain": "17"
     },
     "execution_count": 1,
     "metadata": {},
     "output_type": "execute_result"
    }
   ],
   "source": [
    "# This is a simple arithmetic expression to multiply and then add integers\n",
    "(3*4) + 5"
   ],
   "metadata": {
    "collapsed": false,
    "ExecuteTime": {
     "end_time": "2023-11-09T04:41:47.849227Z",
     "start_time": "2023-11-09T04:41:47.778309Z"
    }
   },
   "id": "b96605a70052ebb1"
  },
  {
   "cell_type": "code",
   "execution_count": 2,
   "outputs": [
    {
     "data": {
      "text/plain": "3.3333333333333335"
     },
     "execution_count": 2,
     "metadata": {},
     "output_type": "execute_result"
    }
   ],
   "source": [
    "# This will convert 200 minutes to hours b dividing by 60\n",
    "200/60\n"
   ],
   "metadata": {
    "collapsed": false,
    "ExecuteTime": {
     "end_time": "2023-11-09T04:44:30.393707Z",
     "start_time": "2023-11-09T04:44:30.383559Z"
    }
   },
   "id": "70a1fc6083774f4c"
  },
  {
   "cell_type": "markdown",
   "source": [
    "## Author\n",
    "Kevin"
   ],
   "metadata": {
    "collapsed": false
   },
   "id": "81db702fd1230f18"
  },
  {
   "cell_type": "markdown",
   "source": [],
   "metadata": {
    "collapsed": false
   },
   "id": "2a525e2d9344b366"
  }
 ],
 "metadata": {
  "kernelspec": {
   "display_name": "Python 3",
   "language": "python",
   "name": "python3"
  },
  "language_info": {
   "codemirror_mode": {
    "name": "ipython",
    "version": 2
   },
   "file_extension": ".py",
   "mimetype": "text/x-python",
   "name": "python",
   "nbconvert_exporter": "python",
   "pygments_lexer": "ipython2",
   "version": "2.7.6"
  }
 },
 "nbformat": 4,
 "nbformat_minor": 5
}
