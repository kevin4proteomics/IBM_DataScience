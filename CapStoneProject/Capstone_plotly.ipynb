{
 "cells": [
  {
   "cell_type": "markdown",
   "source": [
    "Install required packages"
   ],
   "metadata": {
    "collapsed": false
   },
   "id": "50802ff8dab13394"
  },
  {
   "cell_type": "code",
   "execution_count": 5,
   "outputs": [
    {
     "name": "stdout",
     "output_type": "stream",
     "text": [
      "Requirement already satisfied: pandas in /Users/yen-yuyang/anaconda3/lib/python3.11/site-packages (2.0.3)\r\n",
      "Requirement already satisfied: dash in /Users/yen-yuyang/anaconda3/lib/python3.11/site-packages (2.14.2)\r\n",
      "Requirement already satisfied: python-dateutil>=2.8.2 in /Users/yen-yuyang/anaconda3/lib/python3.11/site-packages (from pandas) (2.8.2)\r\n",
      "Requirement already satisfied: pytz>=2020.1 in /Users/yen-yuyang/anaconda3/lib/python3.11/site-packages (from pandas) (2023.3.post1)\r\n",
      "Requirement already satisfied: tzdata>=2022.1 in /Users/yen-yuyang/anaconda3/lib/python3.11/site-packages (from pandas) (2023.3)\r\n",
      "Requirement already satisfied: numpy>=1.21.0 in /Users/yen-yuyang/anaconda3/lib/python3.11/site-packages (from pandas) (1.24.3)\r\n",
      "Requirement already satisfied: Flask<3.1,>=1.0.4 in /Users/yen-yuyang/anaconda3/lib/python3.11/site-packages (from dash) (2.2.2)\r\n",
      "Requirement already satisfied: Werkzeug<3.1 in /Users/yen-yuyang/anaconda3/lib/python3.11/site-packages (from dash) (2.2.3)\r\n",
      "Requirement already satisfied: plotly>=5.0.0 in /Users/yen-yuyang/anaconda3/lib/python3.11/site-packages (from dash) (5.9.0)\r\n",
      "Requirement already satisfied: dash-html-components==2.0.0 in /Users/yen-yuyang/anaconda3/lib/python3.11/site-packages (from dash) (2.0.0)\r\n",
      "Requirement already satisfied: dash-core-components==2.0.0 in /Users/yen-yuyang/anaconda3/lib/python3.11/site-packages (from dash) (2.0.0)\r\n",
      "Requirement already satisfied: dash-table==5.0.0 in /Users/yen-yuyang/anaconda3/lib/python3.11/site-packages (from dash) (5.0.0)\r\n",
      "Requirement already satisfied: typing-extensions>=4.1.1 in /Users/yen-yuyang/anaconda3/lib/python3.11/site-packages (from dash) (4.7.1)\r\n",
      "Requirement already satisfied: requests in /Users/yen-yuyang/anaconda3/lib/python3.11/site-packages (from dash) (2.31.0)\r\n",
      "Requirement already satisfied: retrying in /Users/yen-yuyang/anaconda3/lib/python3.11/site-packages (from dash) (1.3.4)\r\n",
      "Requirement already satisfied: ansi2html in /Users/yen-yuyang/anaconda3/lib/python3.11/site-packages (from dash) (1.9.1)\r\n",
      "Requirement already satisfied: nest-asyncio in /Users/yen-yuyang/anaconda3/lib/python3.11/site-packages (from dash) (1.5.6)\r\n",
      "Requirement already satisfied: setuptools in /Users/yen-yuyang/anaconda3/lib/python3.11/site-packages (from dash) (68.0.0)\r\n",
      "Requirement already satisfied: importlib-metadata in /Users/yen-yuyang/anaconda3/lib/python3.11/site-packages (from dash) (6.0.0)\r\n",
      "Requirement already satisfied: Jinja2>=3.0 in /Users/yen-yuyang/anaconda3/lib/python3.11/site-packages (from Flask<3.1,>=1.0.4->dash) (3.1.2)\r\n",
      "Requirement already satisfied: itsdangerous>=2.0 in /Users/yen-yuyang/anaconda3/lib/python3.11/site-packages (from Flask<3.1,>=1.0.4->dash) (2.0.1)\r\n",
      "Requirement already satisfied: click>=8.0 in /Users/yen-yuyang/anaconda3/lib/python3.11/site-packages (from Flask<3.1,>=1.0.4->dash) (8.0.4)\r\n",
      "Requirement already satisfied: tenacity>=6.2.0 in /Users/yen-yuyang/anaconda3/lib/python3.11/site-packages (from plotly>=5.0.0->dash) (8.2.2)\r\n",
      "Requirement already satisfied: six>=1.5 in /Users/yen-yuyang/anaconda3/lib/python3.11/site-packages (from python-dateutil>=2.8.2->pandas) (1.16.0)\r\n",
      "Requirement already satisfied: MarkupSafe>=2.1.1 in /Users/yen-yuyang/anaconda3/lib/python3.11/site-packages (from Werkzeug<3.1->dash) (2.1.1)\r\n",
      "Requirement already satisfied: zipp>=0.5 in /Users/yen-yuyang/anaconda3/lib/python3.11/site-packages (from importlib-metadata->dash) (3.11.0)\r\n",
      "Requirement already satisfied: charset-normalizer<4,>=2 in /Users/yen-yuyang/anaconda3/lib/python3.11/site-packages (from requests->dash) (2.0.4)\r\n",
      "Requirement already satisfied: idna<4,>=2.5 in /Users/yen-yuyang/anaconda3/lib/python3.11/site-packages (from requests->dash) (3.4)\r\n",
      "Requirement already satisfied: urllib3<3,>=1.21.1 in /Users/yen-yuyang/anaconda3/lib/python3.11/site-packages (from requests->dash) (1.26.16)\r\n",
      "Requirement already satisfied: certifi>=2017.4.17 in /Users/yen-yuyang/anaconda3/lib/python3.11/site-packages (from requests->dash) (2023.7.22)\r\n",
      "Requirement already satisfied: httpx==0.20 in /Users/yen-yuyang/anaconda3/lib/python3.11/site-packages (0.20.0)\r\n",
      "Requirement already satisfied: dash in /Users/yen-yuyang/anaconda3/lib/python3.11/site-packages (2.14.2)\r\n",
      "Requirement already satisfied: plotly in /Users/yen-yuyang/anaconda3/lib/python3.11/site-packages (5.9.0)\r\n",
      "Requirement already satisfied: certifi in /Users/yen-yuyang/anaconda3/lib/python3.11/site-packages (from httpx==0.20) (2023.7.22)\r\n",
      "Requirement already satisfied: charset-normalizer in /Users/yen-yuyang/anaconda3/lib/python3.11/site-packages (from httpx==0.20) (2.0.4)\r\n",
      "Requirement already satisfied: sniffio in /Users/yen-yuyang/anaconda3/lib/python3.11/site-packages (from httpx==0.20) (1.2.0)\r\n",
      "Requirement already satisfied: rfc3986[idna2008]<2,>=1.3 in /Users/yen-yuyang/anaconda3/lib/python3.11/site-packages (from httpx==0.20) (1.5.0)\r\n",
      "Requirement already satisfied: httpcore<0.14.0,>=0.13.3 in /Users/yen-yuyang/anaconda3/lib/python3.11/site-packages (from httpx==0.20) (0.13.7)\r\n",
      "Requirement already satisfied: Flask<3.1,>=1.0.4 in /Users/yen-yuyang/anaconda3/lib/python3.11/site-packages (from dash) (2.2.2)\r\n",
      "Requirement already satisfied: Werkzeug<3.1 in /Users/yen-yuyang/anaconda3/lib/python3.11/site-packages (from dash) (2.2.3)\r\n",
      "Requirement already satisfied: dash-html-components==2.0.0 in /Users/yen-yuyang/anaconda3/lib/python3.11/site-packages (from dash) (2.0.0)\r\n",
      "Requirement already satisfied: dash-core-components==2.0.0 in /Users/yen-yuyang/anaconda3/lib/python3.11/site-packages (from dash) (2.0.0)\r\n",
      "Requirement already satisfied: dash-table==5.0.0 in /Users/yen-yuyang/anaconda3/lib/python3.11/site-packages (from dash) (5.0.0)\r\n",
      "Requirement already satisfied: typing-extensions>=4.1.1 in /Users/yen-yuyang/anaconda3/lib/python3.11/site-packages (from dash) (4.7.1)\r\n",
      "Requirement already satisfied: requests in /Users/yen-yuyang/anaconda3/lib/python3.11/site-packages (from dash) (2.31.0)\r\n",
      "Requirement already satisfied: retrying in /Users/yen-yuyang/anaconda3/lib/python3.11/site-packages (from dash) (1.3.4)\r\n",
      "Requirement already satisfied: ansi2html in /Users/yen-yuyang/anaconda3/lib/python3.11/site-packages (from dash) (1.9.1)\r\n",
      "Requirement already satisfied: nest-asyncio in /Users/yen-yuyang/anaconda3/lib/python3.11/site-packages (from dash) (1.5.6)\r\n",
      "Requirement already satisfied: setuptools in /Users/yen-yuyang/anaconda3/lib/python3.11/site-packages (from dash) (68.0.0)\r\n",
      "Requirement already satisfied: importlib-metadata in /Users/yen-yuyang/anaconda3/lib/python3.11/site-packages (from dash) (6.0.0)\r\n",
      "Requirement already satisfied: tenacity>=6.2.0 in /Users/yen-yuyang/anaconda3/lib/python3.11/site-packages (from plotly) (8.2.2)\r\n",
      "Requirement already satisfied: Jinja2>=3.0 in /Users/yen-yuyang/anaconda3/lib/python3.11/site-packages (from Flask<3.1,>=1.0.4->dash) (3.1.2)\r\n",
      "Requirement already satisfied: itsdangerous>=2.0 in /Users/yen-yuyang/anaconda3/lib/python3.11/site-packages (from Flask<3.1,>=1.0.4->dash) (2.0.1)\r\n",
      "Requirement already satisfied: click>=8.0 in /Users/yen-yuyang/anaconda3/lib/python3.11/site-packages (from Flask<3.1,>=1.0.4->dash) (8.0.4)\r\n",
      "Requirement already satisfied: h11<0.13,>=0.11 in /Users/yen-yuyang/anaconda3/lib/python3.11/site-packages (from httpcore<0.14.0,>=0.13.3->httpx==0.20) (0.12.0)\r\n",
      "Requirement already satisfied: anyio==3.* in /Users/yen-yuyang/anaconda3/lib/python3.11/site-packages (from httpcore<0.14.0,>=0.13.3->httpx==0.20) (3.5.0)\r\n",
      "Requirement already satisfied: idna>=2.8 in /Users/yen-yuyang/anaconda3/lib/python3.11/site-packages (from anyio==3.*->httpcore<0.14.0,>=0.13.3->httpx==0.20) (3.4)\r\n",
      "Requirement already satisfied: MarkupSafe>=2.1.1 in /Users/yen-yuyang/anaconda3/lib/python3.11/site-packages (from Werkzeug<3.1->dash) (2.1.1)\r\n",
      "Requirement already satisfied: zipp>=0.5 in /Users/yen-yuyang/anaconda3/lib/python3.11/site-packages (from importlib-metadata->dash) (3.11.0)\r\n",
      "Requirement already satisfied: urllib3<3,>=1.21.1 in /Users/yen-yuyang/anaconda3/lib/python3.11/site-packages (from requests->dash) (1.26.16)\r\n",
      "Requirement already satisfied: six>=1.7.0 in /Users/yen-yuyang/anaconda3/lib/python3.11/site-packages (from retrying->dash) (1.16.0)\r\n",
      "Requirement already satisfied: packaging in /Users/yen-yuyang/anaconda3/lib/python3.11/site-packages (23.1)\r\n"
     ]
    }
   ],
   "source": [
    "!pip3 install pandas dash\n",
    "!pip install httpx==0.20 dash plotly\n",
    "! pip install packaging"
   ],
   "metadata": {
    "collapsed": false,
    "ExecuteTime": {
     "end_time": "2023-12-27T15:28:47.040808Z",
     "start_time": "2023-12-27T15:28:40.352559Z"
    }
   },
   "id": "2c742103dc9c695f"
  },
  {
   "cell_type": "markdown",
   "source": [
    "Download a skeleton dashboard application and dataset"
   ],
   "metadata": {
    "collapsed": false
   },
   "id": "c212bc45c29575c0"
  },
  {
   "cell_type": "code",
   "execution_count": 6,
   "outputs": [],
   "source": [
    "launch_url = \"https://cf-courses-data.s3.us.cloud-object-storage.appdomain.cloud/IBM-DS0321EN-SkillsNetwork/datasets/spacex_launch_dash.csv\"\n",
    "\n",
    "space_url = \"https://cf-courses-data.s3.us.cloud-object-storage.appdomain.cloud/IBM-DS0321EN-SkillsNetwork/labs/module_3/spacex_dash_app.py\""
   ],
   "metadata": {
    "collapsed": false,
    "ExecuteTime": {
     "end_time": "2023-12-27T15:28:51.744177Z",
     "start_time": "2023-12-27T15:28:51.740048Z"
    }
   },
   "id": "21be13f856c82879"
  },
  {
   "cell_type": "markdown",
   "source": [
    "Spacex dash app python file"
   ],
   "metadata": {
    "collapsed": false
   },
   "id": "5b06361486e1f527"
  },
  {
   "cell_type": "code",
   "execution_count": 16,
   "outputs": [
    {
     "name": "stdout",
     "output_type": "stream",
     "text": [
      "['CCAFS LC-40' 'VAFB SLC-4E' 'KSC LC-39A' 'CCAFS SLC-40']\n",
      "Unnamed: 0\n",
      "Flight Number\n",
      "Launch Site\n",
      "class\n",
      "Payload Mass (kg)\n",
      "Booster Version\n",
      "Booster Version Category\n"
     ]
    }
   ],
   "source": [
    "# Import required libraries\n",
    "import pandas as pd\n",
    "import dash\n",
    "import dash_html_components as html\n",
    "import dash_core_components as dcc\n",
    "from dash.dependencies import Input, Output\n",
    "import plotly.express as px\n",
    "\n",
    "# Read the airline data into pandas dataframe\n",
    "spacex_df = pd.read_csv(launch_url)\n",
    "print(spacex_df['Launch Site'].unique())\n",
    "max_payload = spacex_df['Payload Mass (kg)'].max()\n",
    "min_payload = spacex_df['Payload Mass (kg)'].min()\n",
    "for c in spacex_df:\n",
    "    print(c)\n"
   ],
   "metadata": {
    "collapsed": false,
    "ExecuteTime": {
     "end_time": "2023-12-27T17:09:01.495719Z",
     "start_time": "2023-12-27T17:09:01.341463Z"
    }
   },
   "id": "fbfea3a04c3099cb"
  },
  {
   "cell_type": "code",
   "execution_count": 15,
   "outputs": [
    {
     "data": {
      "text/plain": "<IPython.lib.display.IFrame at 0x148274690>",
      "text/html": "\n        <iframe\n            width=\"100%\"\n            height=\"650\"\n            src=\"http://127.0.0.1:8050/\"\n            frameborder=\"0\"\n            allowfullscreen\n            \n        ></iframe>\n        "
     },
     "metadata": {},
     "output_type": "display_data"
    }
   ],
   "source": [
    "# Create a dash application\n",
    "app = dash.Dash(__name__)\n",
    "\n",
    "# Create an app layout\n",
    "app.layout = html.Div(children=[html.H1('SpaceX Launch Records Dashboard',\n",
    "                                        style={'textAlign': 'center', 'color': '#503D36',\n",
    "                                               'font-size': 40}),\n",
    "                                # TASK 1: Add a dropdown list to enable Launch Site selection\n",
    "                                # The default select value is for ALL sites\n",
    "                                dcc.Dropdown(id='site-dropdown',\n",
    "                                             options=[\n",
    "                                                 {'label': 'All Sites', 'value': 'All Sites'},\n",
    "                                                 {'label': 'CCAFS LC-40', 'value': 'CCAFS LC-40'},\n",
    "                                                 {'label': 'VAFB SLC-4E', 'value': 'VAFB SLC-4E'},\n",
    "                                                 {'label': 'KSC LC-39A', 'value': 'KSC LC-39A'},\n",
    "                                                 {'label': 'CCAFS SLC-40', 'value': 'CCAFS SLC-40'}   \n",
    "                                             ],\n",
    "                                             value='All',\n",
    "                                             placeholder='Select Launch Site',\n",
    "                                             searchable=True),\n",
    "                                             \n",
    "                                html.Br(),\n",
    "                                    html.Div([\n",
    "                                        html.Div(id='out-container',\n",
    "                                        className='chart-grid',\n",
    "                                        style={'display': 'flex'})\n",
    "                                            ]),\n",
    "                                \n",
    "                                # TASK 2: Add a pie chart to show the total successful launches count for all sites\n",
    "                                # If a specific launch site was selected, show the Success vs. Failed counts for the site\n",
    "                                html.Div(dcc.Graph(id='success-pie-chart')),\n",
    "                                html.Br(),\n",
    "\n",
    "                                html.P(\"Payload range (Kg):\"),\n",
    "                                # TASK 3: Add a slider to select payload range\n",
    "                                #dcc.RangeSlider(id='payload-slider',...)\n",
    "\n",
    "                                # TASK 4: Add a scatter chart to show the correlation between payload and launch success\n",
    "                                html.Div(dcc.Graph(id='success-payload-scatter-chart')),\n",
    "                                ])\n",
    "\n",
    "# TASK 2:\n",
    "# Add a callback function for `site-dropdown` as input, `success-pie-chart` as output\n",
    "\n",
    "# TASK 4:\n",
    "# Add a callback function for `site-dropdown` and `payload-slider` as inputs, `success-payload-scatter-chart` as output\n",
    "\n",
    "\n",
    "# Run the app\n",
    "if __name__ == '__main__':\n",
    "    app.run_server()"
   ],
   "metadata": {
    "collapsed": false,
    "ExecuteTime": {
     "end_time": "2023-12-27T15:39:34.867565Z",
     "start_time": "2023-12-27T15:39:34.830505Z"
    }
   },
   "id": "1e3d110ea9e8389b"
  },
  {
   "cell_type": "code",
   "execution_count": null,
   "outputs": [],
   "source": [],
   "metadata": {
    "collapsed": false
   },
   "id": "ae63857ed5db335b"
  }
 ],
 "metadata": {
  "kernelspec": {
   "display_name": "Python 3",
   "language": "python",
   "name": "python3"
  },
  "language_info": {
   "codemirror_mode": {
    "name": "ipython",
    "version": 2
   },
   "file_extension": ".py",
   "mimetype": "text/x-python",
   "name": "python",
   "nbconvert_exporter": "python",
   "pygments_lexer": "ipython2",
   "version": "2.7.6"
  }
 },
 "nbformat": 4,
 "nbformat_minor": 5
}
